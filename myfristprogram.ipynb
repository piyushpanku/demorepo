{
 "cells": [
  {
   "cell_type": "code",
   "execution_count": 2,
   "id": "b2c6349b",
   "metadata": {},
   "outputs": [
    {
     "data": {
      "text/plain": [
       "'hello prince'"
      ]
     },
     "execution_count": 2,
     "metadata": {},
     "output_type": "execute_result"
    }
   ],
   "source": [
    "\"hello prince\""
   ]
  },
  {
   "cell_type": "code",
   "execution_count": 10,
   "id": "0924be96",
   "metadata": {},
   "outputs": [
    {
     "name": "stdout",
     "output_type": "stream",
     "text": [
      "5\n"
     ]
    }
   ],
   "source": [
    "a=2\n",
    "b=3\n",
    "c=a+b\n",
    "print (c)"
   ]
  },
  {
   "cell_type": "code",
   "execution_count": 9,
   "id": "bc1e9892",
   "metadata": {},
   "outputs": [
    {
     "name": "stdout",
     "output_type": "stream",
     "text": [
      "fristName,LastName\n"
     ]
    }
   ],
   "source": [
    "FristName ='piyush'\n",
    "LastName ='singh'\n",
    "print(\"fristName,LastName\")\n"
   ]
  },
  {
   "cell_type": "code",
   "execution_count": null,
   "id": "4ede0517",
   "metadata": {},
   "outputs": [],
   "source": []
  }
 ],
 "metadata": {
  "kernelspec": {
   "display_name": "Python 3 (ipykernel)",
   "language": "python",
   "name": "python3"
  },
  "language_info": {
   "codemirror_mode": {
    "name": "ipython",
    "version": 3
   },
   "file_extension": ".py",
   "mimetype": "text/x-python",
   "name": "python",
   "nbconvert_exporter": "python",
   "pygments_lexer": "ipython3",
   "version": "3.9.12"
  }
 },
 "nbformat": 4,
 "nbformat_minor": 5
}
